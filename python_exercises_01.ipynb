{
  "nbformat": 4,
  "nbformat_minor": 0,
  "metadata": {
    "colab": {
      "name": "python_exercises_01.ipynb",
      "provenance": [],
      "collapsed_sections": [],
      "include_colab_link": true
    },
    "kernelspec": {
      "name": "python3",
      "display_name": "Python 3"
    }
  },
  "cells": [
    {
      "cell_type": "markdown",
      "metadata": {
        "id": "view-in-github",
        "colab_type": "text"
      },
      "source": [
        "<a href=\"https://colab.research.google.com/github/edu-asouza/br-python-condensed/blob/main/python_exercises_01.ipynb\" target=\"_parent\"><img src=\"https://colab.research.google.com/assets/colab-badge.svg\" alt=\"Open In Colab\"/></a>"
      ]
    },
    {
      "cell_type": "markdown",
      "metadata": {
        "id": "8YqaSZgXYJ5g"
      },
      "source": [
        "![](https://i.imgur.com/YX6UATs.png)\n"
      ]
    },
    {
      "cell_type": "markdown",
      "metadata": {
        "id": "hhUVzDipaGb9"
      },
      "source": [
        "### **Exercícios de Python - 1** \n",
        "\n",
        "\n",
        "\n"
      ]
    },
    {
      "cell_type": "markdown",
      "metadata": {
        "id": "qMGp-h8OaGqr"
      },
      "source": [
        "1 - Faça um programa, com uma função que necessite de três argumentos, e que forneça a soma desses três argumentos."
      ]
    },
    {
      "cell_type": "code",
      "metadata": {
        "id": "kTg-D89NdCld"
      },
      "source": [
        "def soma3():\n",
        "    num1 = int(input(\"Digite o primeiro numero: \"))\n",
        "    num2 = int(input(\"Digite o segundo numero: \"))\n",
        "    num3 = int(input(\"Digite o terceiro numero: \"))\n",
        "    total = num1+num2+num3\n",
        "    return f\"Olá, a soma desses 3 número é = {total}\"\n",
        "\n",
        "soma3()"
      ],
      "execution_count": null,
      "outputs": []
    },
    {
      "cell_type": "markdown",
      "metadata": {
        "id": "KdLXZftIaG60"
      },
      "source": [
        "2 - Faça um Programa que peça a temperatura em graus Celsius, transforme e mostre em graus Fahrenheit. \\\n",
        "*Dica: procure a fórmula para essa conversão na internet*"
      ]
    },
    {
      "cell_type": "code",
      "metadata": {
        "id": "MNINJ32eU45M"
      },
      "source": [
        "def toFahrenheit():\n",
        "    celsius = float(input(\"Iseria a temperatura em Graus Celsius para coverter em Fahrenheit: \"))\n",
        "    return f\"A temperatura hoje é de {celsius / 5 * 9 + 32}°F\"\n",
        "\n",
        "toFahrenheit()"
      ],
      "execution_count": null,
      "outputs": []
    },
    {
      "cell_type": "markdown",
      "metadata": {
        "id": "4OETBVgmaGzX"
      },
      "source": [
        "3 - Faça um Programa que peça um número inteiro e determine se ele é par ou impar. Dica: utilize o operador módulo (resto da divisão)."
      ]
    },
    {
      "cell_type": "code",
      "metadata": {
        "colab": {
          "base_uri": "https://localhost:8080/",
          "height": 52
        },
        "id": "z8OooaPG67Vc",
        "outputId": "b5222926-ddc9-4c8c-eb87-a1c2584dc291"
      },
      "source": [
        "def parimpar():\n",
        "    numero = int(input(\"Isira um numero inteiro e descubra se é par ou impar: \"))\n",
        "    if (numero % 2) == 0:\n",
        "        return f\"o número {numero} é Par\"\n",
        "    else:\n",
        "        return f\"o número {numero} é Impar\"\n",
        "\n",
        "parimpar()"
      ],
      "execution_count": null,
      "outputs": [
        {
          "output_type": "stream",
          "text": [
            "Isira um numero inteiro e descubra se é par ou impar: 115\n"
          ],
          "name": "stdout"
        },
        {
          "output_type": "execute_result",
          "data": {
            "application/vnd.google.colaboratory.intrinsic+json": {
              "type": "string"
            },
            "text/plain": [
              "'o número 115 é Impar'"
            ]
          },
          "metadata": {
            "tags": []
          },
          "execution_count": 92
        }
      ]
    },
    {
      "cell_type": "markdown",
      "metadata": {
        "id": "7zPJ8sgPaGw0"
      },
      "source": [
        "4 - Faça um programa que peça o tamanho de um arquivo para download (em MB) e a velocidade de um link de Internet (em Mbps), calcule e informe o tempo aproximado de download do arquivo usando este link (em minutos)."
      ]
    },
    {
      "cell_type": "code",
      "metadata": {
        "id": "l4qtSxU7XquB",
        "colab": {
          "base_uri": "https://localhost:8080/",
          "height": 69
        },
        "outputId": "d2062c66-1ed4-4f47-ad53-5e6e17b973f8"
      },
      "source": [
        "def timedowload():\n",
        "\n",
        "    mb = int(input(\"Isira o tamanho do arquivo em mb: \"))\n",
        "    banda = int(input(\"Isira a velocidade de sua conecao em Mbps: \"))\n",
        "    \n",
        "    if (mb / banda) >= 60:\n",
        "        return f\"tempo aproximado para o dowload {((mb / banda)//60)+1} minutos\"\n",
        "    else:\n",
        "        return f\"menos de 1 minuto\"\n",
        "\n",
        "timedowload()"
      ],
      "execution_count": null,
      "outputs": [
        {
          "output_type": "stream",
          "text": [
            "Isira o tamanho do arquivo em mb: 700\n",
            "Isira a velocidade de sua conecao em Mbps: 5\n"
          ],
          "name": "stdout"
        },
        {
          "output_type": "execute_result",
          "data": {
            "application/vnd.google.colaboratory.intrinsic+json": {
              "type": "string"
            },
            "text/plain": [
              "'tempo aproximado para o dowload 3.0 minutos'"
            ]
          },
          "metadata": {
            "tags": []
          },
          "execution_count": 99
        }
      ]
    },
    {
      "cell_type": "markdown",
      "metadata": {
        "id": "0tkhm6EUaG1u"
      },
      "source": [
        "5 - Faça um programa para a leitura de duas notas parciais de um aluno. O programa deve calcular a média alcançada por aluno e apresentar:\n",
        "- A mensagem \"Aprovado\", se a média alcançada for maior ou igual a sete;\n",
        "- A mensagem \"Reprovado\", se a média for menor do que sete;\n",
        "- A mensagem \"Aprovado com Distinção\", se a média for igual a dez."
      ]
    },
    {
      "cell_type": "code",
      "metadata": {
        "id": "990mQ6UhdwKl",
        "colab": {
          "base_uri": "https://localhost:8080/",
          "height": 69
        },
        "outputId": "0172a145-a6e3-4bee-8891-5f34472c58b7"
      },
      "source": [
        "def avalicao():\n",
        "\n",
        "    nota1 = float(input(\"Isira sua nota 1: \"))\n",
        "    nota2 = float(input(\"Isira dua nota 2: \"))\n",
        "    \n",
        "    if ((nota1 + nota2) / 2) < 7:\n",
        "        return f\"Reprovado - (sua média {round(((nota1 + nota2) / 2),2)} ficou abaixo de 7)\"\n",
        "\n",
        "    elif ((nota1 + nota2) / 2) < 10:\n",
        "        return f\"Aprovado - Parabéns sua média {round(((nota1 + nota2) / 2),2)} foi maior que 7\"\n",
        "\n",
        "    else:\n",
        "        return f\"Aprovado com Distinção - Parabéns você foi aprovado com nota 10\"\n",
        "\n",
        "avalicao()"
      ],
      "execution_count": null,
      "outputs": [
        {
          "output_type": "stream",
          "text": [
            "Isira sua nota 1: 10\n",
            "Isira dua nota 2: 50\n"
          ],
          "name": "stdout"
        },
        {
          "output_type": "execute_result",
          "data": {
            "application/vnd.google.colaboratory.intrinsic+json": {
              "type": "string"
            },
            "text/plain": [
              "'Aprovado com Distinção - Parabéns você foi aprovado com nota 10'"
            ]
          },
          "metadata": {
            "tags": []
          },
          "execution_count": 105
        }
      ]
    },
    {
      "cell_type": "markdown",
      "metadata": {
        "id": "Lm1tOKThnU42"
      },
      "source": [
        "Exercícios adaptados de Python Brasil"
      ]
    }
  ]
}